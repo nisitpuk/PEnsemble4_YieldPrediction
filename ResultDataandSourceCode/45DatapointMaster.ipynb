{
 "cells": [
  {
   "cell_type": "code",
   "execution_count": 2,
   "metadata": {},
   "outputs": [
    {
     "name": "stdout",
     "output_type": "stream",
     "text": [
      "   id                                           geometry\n",
      "0   1  POLYGON ((100.17382 15.27643, 100.17386 15.276...\n",
      "1   2  POLYGON ((100.17432 15.27656, 100.17436 15.276...\n",
      "2   3  POLYGON ((100.17461 15.27666, 100.17465 15.276...\n",
      "3   4  POLYGON ((100.17505 15.27679, 100.17509 15.276...\n",
      "4   5  POLYGON ((100.17599 15.27704, 100.17603 15.277...\n"
     ]
    }
   ],
   "source": [
    "import geopandas as gpd\n",
    "from rasterstats import zonal_stats\n",
    "from pathlib import Path\n",
    "import numpy as np\n",
    "import os\n",
    "\n",
    "# Import plot segmetation shapefile\n",
    "plot = gpd.read_file(\"C:/Maize_Chainat_C/ROI_45Point_Master.shp\")\n",
    "\n",
    "#Plot ShapeFile\n",
    "#plot.plot()\n",
    "\n",
    "#plot = plot[['id', 'plot', 'geometry']]\n",
    "plot = plot[['id', 'geometry']]\n",
    "print(plot.head())\n",
    "\n",
    "mask1 = np.zeros(plot.shape,dtype='uint8')\n",
    "\n",
    "#####################################################################\n",
    "# # # VI's input directory\n",
    "vi_path = \"C:/Maize_Chainat_C/16.3May23/VI_Images\"\n",
    "# Create list containg with the VIimage from the filepath\n",
    "vi_list = [image for image in os.listdir(vi_path) if image.endswith('.tif')]\n",
    "\n",
    "# # CSV's output directory\n",
    "output_dir = \"C:/Maize_Chainat_C/45Datapoint_Master/17\"\n",
    "\n",
    "for n in vi_list:\n",
    "    stats = zonal_stats(plot, os.path.join(vi_path, n),\n",
    "                        stats=['max', 'mean', 'count',\n",
    "                               'sum', 'std','median', \n",
    "                               'unique', 'percentile_95', \n",
    "                               'percentile_90', 'percentile_85'], \n",
    "                        all_touch=True, \n",
    "                        geojson_out=True)\n",
    "\n",
    "\n",
    "    geostats = gpd.GeoDataFrame.from_features(stats) # Create dataframe\n",
    "    geostats = geostats.loc[:,'id':'percentile_85'] # Select only interested column\n",
    "    output_file = os.path.join(output_dir, Path(n[:-4] +'_stat').name+'.csv') # Create a path to save file and file name\n",
    "    geostats.to_csv(output_file, index=False)"
   ]
  }
 ],
 "metadata": {
  "kernelspec": {
   "display_name": "qgisconda",
   "language": "python",
   "name": "python3"
  },
  "language_info": {
   "codemirror_mode": {
    "name": "ipython",
    "version": 3
   },
   "file_extension": ".py",
   "mimetype": "text/x-python",
   "name": "python",
   "nbconvert_exporter": "python",
   "pygments_lexer": "ipython3",
   "version": "3.11.0"
  },
  "orig_nbformat": 4
 },
 "nbformat": 4,
 "nbformat_minor": 2
}
