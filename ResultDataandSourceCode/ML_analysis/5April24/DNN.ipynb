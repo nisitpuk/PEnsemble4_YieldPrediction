{
 "cells": [
  {
   "cell_type": "code",
   "execution_count": 11,
   "metadata": {},
   "outputs": [
    {
     "name": "stdout",
     "output_type": "stream",
     "text": [
      "You must install pydot (`pip install pydot`) and install graphviz (see instructions at https://graphviz.gitlab.io/download/) for plot_model to work.\n"
     ]
    }
   ],
   "source": [
    "from tensorflow.keras.models import Model\n",
    "from tensorflow.keras.layers import Input, Dense, Concatenate\n",
    "from tensorflow.keras.optimizers import Adam\n",
    "from tensorflow.keras.utils import plot_model\n",
    "\n",
    "\n",
    "# Assuming genotype has 12 features, weather has k1 features, and soil has k2 features\n",
    "k1 = 7  # Replace with actual number of weather features\n",
    "k2 = 8  # Replace with actual number of soil features\n",
    "\n",
    "genotype_input = Input(shape=(12,), name='Genotype_Input')\n",
    "weather_input = Input(shape=(k1,), name='Weather_Input')\n",
    "soil_input = Input(shape=(k2,), name='Soil_Input')\n",
    "\n",
    "# Separate initial layers for each input type\n",
    "genotype_layer = Dense(64, activation='relu')(genotype_input)\n",
    "weather_layer = Dense(64, activation='relu')(weather_input)\n",
    "soil_layer = Dense(64, activation='relu')(soil_input)\n",
    "\n",
    "# Concatenate the outputs from each input type\n",
    "concat_layer = Concatenate()([genotype_layer, weather_layer, soil_layer])\n",
    "\n",
    "# Further hidden layers\n",
    "hidden_layer = Dense(128, activation='relu')(concat_layer)\n",
    "hidden_layer = Dense(128, activation='relu')(hidden_layer)\n",
    "\n",
    "# Output layer\n",
    "output = Dense(1, activation='linear')(hidden_layer)  # Adjust the activation function as per your requirement\n",
    "\n",
    "# Creating the model\n",
    "model = Model(inputs=[genotype_input, weather_input, soil_input], outputs=output)\n",
    "\n",
    "# Compile the model\n",
    "model.compile(optimizer=Adam(learning_rate=0.001), loss='mean_squared_error')\n",
    "\n",
    "# Plot the model\n",
    "plot_model(model, to_file=r'C:\\Maize_Chainat_C\\45Datapoint_Master\\ML_analysis\\5April24model_plot.png', show_shapes=True, show_layer_names=True)\n",
    "\n",
    "\n"
   ]
  }
 ],
 "metadata": {
  "kernelspec": {
   "display_name": "qgisconda",
   "language": "python",
   "name": "python3"
  },
  "language_info": {
   "codemirror_mode": {
    "name": "ipython",
    "version": 3
   },
   "file_extension": ".py",
   "mimetype": "text/x-python",
   "name": "python",
   "nbconvert_exporter": "python",
   "pygments_lexer": "ipython3",
   "version": "3.11.0"
  }
 },
 "nbformat": 4,
 "nbformat_minor": 2
}
